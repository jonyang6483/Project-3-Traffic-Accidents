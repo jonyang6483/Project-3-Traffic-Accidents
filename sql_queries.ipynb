{
 "cells": [
  {
   "cell_type": "code",
   "execution_count": 1,
   "id": "6e518bf8",
   "metadata": {},
   "outputs": [],
   "source": [
    "import sqlalchemy\n",
    "import numpy as np\n",
    "from sqlalchemy.ext.automap import automap_base\n",
    "from sqlalchemy.orm import Session\n",
    "from sqlalchemy import create_engine, func, MetaData,inspect"
   ]
  },
  {
   "cell_type": "code",
   "execution_count": 2,
   "id": "94f046df",
   "metadata": {},
   "outputs": [],
   "source": [
    "#Database total accidents Setup\n",
    "engine = create_engine(\"sqlite:///accidents.sqlite\")\n",
    "\n",
    "# metadata = MetaData(bind = engine)\n",
    "Base = automap_base()\n",
    "\n",
    "Base.prepare(autoload_with=engine)\n",
    "\n",
    "accident = Base.classes.accidents\n",
    "# inspect(engine).get_table_names()"
   ]
  },
  {
   "cell_type": "code",
   "execution_count": 3,
   "id": "d840f6a3",
   "metadata": {},
   "outputs": [],
   "source": [
    "session = Session(engine)"
   ]
  },
  {
   "cell_type": "code",
   "execution_count": 18,
   "id": "698a7275",
   "metadata": {},
   "outputs": [
    {
     "ename": "AttributeError",
     "evalue": "'Engine' object has no attribute 'execute'",
     "output_type": "error",
     "traceback": [
      "\u001b[1;31m---------------------------------------------------------------------------\u001b[0m",
      "\u001b[1;31mAttributeError\u001b[0m                            Traceback (most recent call last)",
      "\u001b[1;32m~\\AppData\\Local\\Temp\\ipykernel_18680\\513516331.py\u001b[0m in \u001b[0;36m<module>\u001b[1;34m\u001b[0m\n\u001b[1;32m----> 1\u001b[1;33m \u001b[0mengine\u001b[0m\u001b[1;33m.\u001b[0m\u001b[0mexecute\u001b[0m\u001b[1;33m(\u001b[0m\u001b[1;34m\"SELECT DISTINCT(hour) FROM accidents\"\u001b[0m\u001b[1;33m)\u001b[0m\u001b[1;33m.\u001b[0m\u001b[0mfetchall\u001b[0m\u001b[1;33m(\u001b[0m\u001b[1;33m)\u001b[0m\u001b[1;33m\u001b[0m\u001b[1;33m\u001b[0m\u001b[0m\n\u001b[0m",
      "\u001b[1;31mAttributeError\u001b[0m: 'Engine' object has no attribute 'execute'"
     ]
    }
   ],
   "source": [
    "engine.execute(\"SELECT DISTINCT(hour) FROM accidents\").fetchall()"
   ]
  },
  {
   "cell_type": "code",
   "execution_count": 14,
   "id": "bcebca3f",
   "metadata": {},
   "outputs": [
    {
     "data": {
      "text/plain": [
       "[('5:00pm-5:59pm', 8894), ('4:00pm-4:59pm', 8110), ('3:00pm-3:59pm', 7952)]"
      ]
     },
     "execution_count": 14,
     "metadata": {},
     "output_type": "execute_result"
    }
   ],
   "source": [
    "engine.execute(\"SELECT hour, COUNT(hour) FROM accidents GROUP BY hour ORDER BY COUNT(hour) DESC LIMIT 3\").fetchall()"
   ]
  },
  {
   "cell_type": "code",
   "execution_count": 15,
   "id": "30425bf7",
   "metadata": {},
   "outputs": [
    {
     "data": {
      "text/plain": [
       "[('Ford', 12192),\n",
       " ('Toyota', 11399),\n",
       " ('Chevrolet', 11312),\n",
       " ('Honda', 8869),\n",
       " ('Nissan/Datsun', 7740),\n",
       " ('Dodge', 5061),\n",
       " ('Hyundai', 3827),\n",
       " ('Jeep / Kaiser-Jeep / Willys- Jeep', 3235),\n",
       " ('KIA', 2969),\n",
       " ('Unknown Make', 2692),\n",
       " ('GMC', 2434),\n",
       " ('Chrysler', 1592),\n",
       " ('Mazda', 1449),\n",
       " ('Volkswagen', 1445),\n",
       " ('Lexus', 1423),\n",
       " ('Subaru', 1383),\n",
       " ('BMW', 1347),\n",
       " ('Mercedes-Benz', 1305),\n",
       " ('Buick / Opel', 1229),\n",
       " ('Freightliner', 1048),\n",
       " ('Acura', 947),\n",
       " ('Harley-Davidson', 893),\n",
       " ('Infiniti', 857),\n",
       " ('Cadillac', 772),\n",
       " ('Other Make', 768),\n",
       " ('Mitsubishi', 742),\n",
       " ('Pontiac', 736),\n",
       " ('Volvo', 634),\n",
       " ('International Harvester/Navistar', 581),\n",
       " ('Lincoln', 550),\n",
       " ('Audi', 505),\n",
       " ('Mercury', 439),\n",
       " ('Peterbilt', 431),\n",
       " ('Suzuki', 420),\n",
       " ('Saturn', 398),\n",
       " ('Yamaha', 352),\n",
       " ('Kenworth', 337),\n",
       " ('Not Reported', 326),\n",
       " ('Kawasaki', 283),\n",
       " ('Mack', 200),\n",
       " ('Other Import', 178),\n",
       " ('Land Rover', 176),\n",
       " ('Isuzu', 170),\n",
       " ('Scion', 128),\n",
       " ('Gillig', 104),\n",
       " ('Porsche', 100),\n",
       " ('Oldsmobile', 92),\n",
       " ('Other Domestic Manufacturers', 91),\n",
       " ('Jaguar', 87),\n",
       " ('Bluebird', 86),\n",
       " ('Fiat', 57),\n",
       " ('Saab', 51),\n",
       " ('AM General', 50),\n",
       " ('Triumph', 30),\n",
       " ('Ducati', 30),\n",
       " ('Thomas Built', 29),\n",
       " ('Plymouth', 29),\n",
       " ('MCI', 25),\n",
       " ('Victory', 21),\n",
       " ('White/Autocar White/GMC', 18),\n",
       " ('Smart', 17),\n",
       " ('Alfa Romeo', 15),\n",
       " ('Grumman', 7),\n",
       " ('Moto-Guzzi', 1),\n",
       " ('Eagle', 1),\n",
       " ('Daewoo', 1),\n",
       " ('American Motors', 1)]"
      ]
     },
     "execution_count": 15,
     "metadata": {},
     "output_type": "execute_result"
    }
   ],
   "source": [
    "engine.execute(\"SELECT make, COUNT(make) FROM accidents GROUP BY make ORDER BY COUNT(make) DESC\").fetchall()"
   ]
  },
  {
   "cell_type": "code",
   "execution_count": 32,
   "id": "6689a410",
   "metadata": {},
   "outputs": [
    {
     "data": {
      "text/plain": [
       "[('Mid West', 5323), ('North East', 1880), ('South', 14742), ('West', 3802)]"
      ]
     },
     "execution_count": 32,
     "metadata": {},
     "output_type": "execute_result"
    }
   ],
   "source": [
    "engine.execute(\"SELECT region, COUNT(veh_damage) FROM accidents WHERE veh_damage = 'Disabling Damage' GROUP BY region ORDER BY\").fetchall()"
   ]
  },
  {
   "cell_type": "code",
   "execution_count": 30,
   "id": "9af4e7f0",
   "metadata": {},
   "outputs": [
    {
     "data": {
      "text/plain": [
       "[('North East', 1880)]"
      ]
     },
     "execution_count": 30,
     "metadata": {},
     "output_type": "execute_result"
    }
   ],
   "source": [
    "engine.execute(\"SELECT region, COUNT(veh_damage) FROM accidents WHERE region = 'North East' AND veh_damage = 'Disabling Damage'\").fetchall()"
   ]
  },
  {
   "cell_type": "code",
   "execution_count": null,
   "id": "b8e4b180",
   "metadata": {},
   "outputs": [],
   "source": [
    "engine.execute(\"SELECT region, COUNT(veh_damage) FROM accidents WHERE region = 'North East' AND veh_damage = 'Disabling Damage'\").fetchall()"
   ]
  },
  {
   "cell_type": "code",
   "execution_count": 6,
   "id": "51420ec1",
   "metadata": {},
   "outputs": [
    {
     "data": {
      "text/plain": [
       "('South',)"
      ]
     },
     "execution_count": 6,
     "metadata": {},
     "output_type": "execute_result"
    }
   ],
   "source": [
    "session = Session(engine)\n",
    "session.query(accident.region).first()"
   ]
  },
  {
   "cell_type": "code",
   "execution_count": null,
   "id": "2a815696",
   "metadata": {},
   "outputs": [],
   "source": [
    "results = session.query(accident.region).all()\n",
    "\n",
    "    \n",
    "\n",
    "# Convert list of tuples into normal list\n",
    "all_accidents = list(np.ravel(results))\n",
    "\n",
    "return jsonify(all_accidents)"
   ]
  },
  {
   "cell_type": "code",
   "execution_count": 7,
   "id": "b6e860b0",
   "metadata": {},
   "outputs": [
    {
     "data": {
      "text/plain": [
       "[('Mid West', 50), ('North East', 79), ('South', 220), ('West', 78)]"
      ]
     },
     "execution_count": 7,
     "metadata": {},
     "output_type": "execute_result"
    }
   ],
   "source": [
    "session.query(accident.region, func.count()).filter(accident.hour == \"Unknown Hours\").group_by(accident.region).all()"
   ]
  },
  {
   "cell_type": "code",
   "execution_count": null,
   "id": "b435ea5c",
   "metadata": {},
   "outputs": [],
   "source": [
    "region2 = [\"South\",\"West\"]\n",
    "session.query(accident.region).filter(accident.region.in_(region2)).all()"
   ]
  },
  {
   "cell_type": "code",
   "execution_count": 6,
   "id": "61283356",
   "metadata": {},
   "outputs": [
    {
     "data": {
      "text/plain": [
       "[('Mid West', 428), ('North East', 469), ('South', 1375), ('West', 420)]"
      ]
     },
     "execution_count": 6,
     "metadata": {},
     "output_type": "execute_result"
    }
   ],
   "source": [
    "session.query(accident.region, func.count()).filter(accident.make == \"Unknown Make\").group_by(accident.region).all()"
   ]
  },
  {
   "cell_type": "code",
   "execution_count": null,
   "id": "af7f4ebe",
   "metadata": {},
   "outputs": [],
   "source": [
    "session.query()"
   ]
  },
  {
   "cell_type": "code",
   "execution_count": null,
   "id": "d27ac3b6",
   "metadata": {},
   "outputs": [],
   "source": [
    "time_dict = {\n",
    "    \"Morning\": [\"\",\"\"],\n",
    "    \"Afternoon\": [\"\",\"\"],\n",
    "    \"Night\": [\"\":\"\"]\n",
    "}\n",
    "\n",
    "session.query(accident.hour).filter(accident.hour.in_(time_dict[time])).all()"
   ]
  }
 ],
 "metadata": {
  "kernelspec": {
   "display_name": "PythonData",
   "language": "python",
   "name": "pythondata"
  },
  "language_info": {
   "codemirror_mode": {
    "name": "ipython",
    "version": 3
   },
   "file_extension": ".py",
   "mimetype": "text/x-python",
   "name": "python",
   "nbconvert_exporter": "python",
   "pygments_lexer": "ipython3",
   "version": "3.7.7"
  }
 },
 "nbformat": 4,
 "nbformat_minor": 5
}
